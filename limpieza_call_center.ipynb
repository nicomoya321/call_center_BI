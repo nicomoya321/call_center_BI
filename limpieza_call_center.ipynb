{
  "nbformat": 4,
  "nbformat_minor": 0,
  "metadata": {
    "colab": {
      "private_outputs": true,
      "provenance": []
    },
    "kernelspec": {
      "name": "python3",
      "display_name": "Python 3"
    },
    "language_info": {
      "name": "python"
    }
  },
  "cells": [
    {
      "cell_type": "code",
      "source": [
        "import pandas as pd\n",
        "import numpy as np\n"
      ],
      "metadata": {
        "id": "evG-2mBXM1dQ"
      },
      "execution_count": null,
      "outputs": []
    },
    {
      "cell_type": "code",
      "execution_count": null,
      "metadata": {
        "id": "GGAVykLhK-Jv"
      },
      "outputs": [],
      "source": [
        "c_center = pd.read_csv('Call_Center_1999_DataSet.csv', sep=';', header=None)\n",
        "c_center"
      ]
    },
    {
      "cell_type": "code",
      "source": [
        "c_center.head()"
      ],
      "metadata": {
        "id": "ZE62_zHzPknG"
      },
      "execution_count": null,
      "outputs": []
    },
    {
      "cell_type": "code",
      "source": [
        "c_center.fillna(0, inplace=True)\n",
        "c_center"
      ],
      "metadata": {
        "id": "qYFBNDSiP022"
      },
      "execution_count": null,
      "outputs": []
    },
    {
      "cell_type": "code",
      "source": [
        "df = c_center.drop_duplicates()"
      ],
      "metadata": {
        "id": "BUcKR76MRbRD"
      },
      "execution_count": null,
      "outputs": []
    },
    {
      "cell_type": "code",
      "source": [
        "df.describe()"
      ],
      "metadata": {
        "id": "dXSYIH2ySQbP"
      },
      "execution_count": null,
      "outputs": []
    }
  ]
}